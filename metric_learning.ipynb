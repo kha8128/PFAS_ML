{
 "cells": [
  {
   "cell_type": "code",
   "execution_count": 4,
   "metadata": {},
   "outputs": [],
   "source": [
    "import pandas as pd\n",
    "from rdkit import Chem, DataStructs\n",
    "from rdkit.Chem import AllChem\n",
    "import numpy as np\n",
    "from tqdm import tqdm\n",
    "import seaborn as sns\n",
    "import umap\n",
    "\n",
    "from sklearn.manifold import TSNE\n",
    "import metric_learn\n",
    "import numpy as np\n",
    "from sklearn.datasets import make_classification, make_regression\n",
    "from rdkit.Chem import PandasTools"
   ]
  },
  {
   "cell_type": "code",
   "execution_count": 2,
   "metadata": {},
   "outputs": [],
   "source": [
    "sns.set(rc={'figure.figsize': (10, 10)})\n",
    "sns.set(font_scale=1.5)\n",
    "sns.set_style('whitegrid')\n",
    "\n",
    "# visualisation imports\n",
    "import matplotlib.pyplot as plt\n",
    "np.random.seed(42)"
   ]
  },
  {
   "cell_type": "code",
   "execution_count": 7,
   "metadata": {},
   "outputs": [],
   "source": [
    "df = pd.read_csv(\"supporting_4.csv\")\n",
    "PandasTools.AddMoleculeColumnToFrame(df,'SMILES','Mol')"
   ]
  },
  {
   "cell_type": "code",
   "execution_count": 8,
   "metadata": {},
   "outputs": [],
   "source": [
    "def fp_list_from_smiles_list(smiles_list,n_bits=2048):\n",
    "    fp_list = []\n",
    "    for smiles in tqdm(smiles_list):\n",
    "        mol = Chem.MolFromSmiles(smiles)\n",
    "        fp_list.append(fp_as_array(mol,n_bits))\n",
    "    return fp_list\n",
    "\n",
    "def fp_as_array(mol,n_bits=2048):\n",
    "    fp = AllChem.GetMorganFingerprintAsBitVect(mol, 2, nBits=n_bits)\n",
    "    arr = np.zeros((1,), np.int)\n",
    "    DataStructs.ConvertToNumpyArray(fp, arr)\n",
    "    return arr"
   ]
  },
  {
   "cell_type": "code",
   "execution_count": 9,
   "metadata": {},
   "outputs": [
    {
     "name": "stderr",
     "output_type": "stream",
     "text": [
      "100%|██████████| 1012/1012 [00:00<00:00, 2799.61it/s]\n"
     ]
    }
   ],
   "source": [
    "fp_list = fp_list_from_smiles_list(df.SMILES)\n",
    "df['fingerprint'] = fp_list"
   ]
  },
  {
   "cell_type": "code",
   "execution_count": 10,
   "metadata": {},
   "outputs": [
    {
     "name": "stdout",
     "output_type": "stream",
     "text": [
      "umap x y [[ 0.86777586  8.958862  ]\n",
      " [ 5.6070876  11.453878  ]\n",
      " [ 1.3165851   9.967407  ]\n",
      " ...\n",
      " [ 3.5876715   7.7237773 ]\n",
      " [ 5.3396025  10.837394  ]\n",
      " [ 9.347091   10.3531475 ]]\n"
     ]
    }
   ],
   "source": [
    "reducer = umap.UMAP(n_neighbors=20, min_dist=0.0, n_components=2, random_state=42)\n",
    "crds_embedded = reducer.fit_transform(fp_list)\n",
    "print(\"umap x y\", crds_embedded)\n",
    "tsne_df = pd.DataFrame(crds_embedded,columns=[\"X\",\"Y\"])\n",
    "tsne_df['SMILES'] = df['SMILES']\n",
    "tsne_df['PCBA883'] = df['PCBA883']"
   ]
  },
  {
   "cell_type": "code",
   "execution_count": 11,
   "metadata": {},
   "outputs": [
    {
     "name": "stdout",
     "output_type": "stream",
     "text": [
      "umap_df=           X          Y                                             SMILES  \\\n",
      "0  0.867776   8.958862    O=C(NC(Nc1ccc(F)cc1)(C(F)(F)F)C(F)(F)F)c1cccnc1   \n",
      "1  5.607088  11.453878  CCC1CN2CCC1CC2[C@@H](NC(=S)Nc1cc(C(F)(F)F)cc(C...   \n",
      "2  1.316585   9.967407        CC(NC(=O)NNC(=O)c1ccncc1)(C(F)(F)F)C(F)(F)F   \n",
      "3  0.969752   9.594785            CCC(NC(=O)NCc1ccccc1)(C(F)(F)F)C(F)(F)F   \n",
      "4  4.140071  10.116746  OC(c1ccccc1)(c1nc(/C=C/c2ccc(C(F)(F)F)cc2)cs1)...   \n",
      "\n",
      "   PCBA883  \n",
      "0      NaN  \n",
      "1      NaN  \n",
      "2      NaN  \n",
      "3      NaN  \n",
      "4      NaN  \n"
     ]
    }
   ],
   "source": [
    "print('umap_df=',tsne_df.head())\n",
    "tsne_df.to_csv('umap_df.csv',index=False)"
   ]
  },
  {
   "cell_type": "code",
   "execution_count": 12,
   "metadata": {},
   "outputs": [],
   "source": [
    "# settng up LMNN\n",
    "lmnn = metric_learn.LMNN(k=5, learn_rate=1e-6)"
   ]
  },
  {
   "cell_type": "code",
   "execution_count": null,
   "metadata": {},
   "outputs": [],
   "source": [
    "# fit the data!\n",
    "lmnn_df = pd.DataFrame()\n",
    "lmnn_df['fingerprint']=df['fingerprint']\n",
    "lmnn_df['SMILES'] = df['SMILES']\n",
    "lmnn_df['PCBA883'] = df['PCBA883']\n",
    "lmnn_df=lmnn_df.dropna()\n",
    "lmnn_df.reset_index(drop=True,inplace=True)\n",
    "X = lmnn_df['fingerprint']\n",
    "y = lmnn_df['PCBA883']\n",
    "lmnn.fit(X.values.tolist(),y.values.tolist())"
   ]
  },
  {
   "cell_type": "code",
   "execution_count": null,
   "metadata": {},
   "outputs": [],
   "source": [
    "# transform our input space\n",
    "X_lmnn = lmnn.transform(X.values.tolist())\n",
    "crds_embedded_2 = reducer.fit_transform(X_lmnn)\n",
    "print(\"lmnn embedded\", crds_embedded_2)\n",
    "metric_df = pd.DataFrame(crds_embedded_2,columns=[\"X\",\"Y\"])\n",
    "metric_df['PCBA883'] = lmnn_df['PCBA883']\n",
    "metric_df['SMILES'] = lmnn_df['SMILES']\n",
    "print('metric_df=',metric_df.head())\n",
    "metric_df.to_csv('metric_df.csv',index=False)"
   ]
  },
  {
   "cell_type": "code",
   "execution_count": null,
   "metadata": {},
   "outputs": [],
   "source": [
    "metric_df"
   ]
  },
  {
   "cell_type": "code",
   "execution_count": null,
   "metadata": {},
   "outputs": [],
   "source": []
  }
 ],
 "metadata": {
  "kernelspec": {
   "display_name": "Python 3",
   "language": "python",
   "name": "python3"
  },
  "language_info": {
   "codemirror_mode": {
    "name": "ipython",
    "version": 3
   },
   "file_extension": ".py",
   "mimetype": "text/x-python",
   "name": "python",
   "nbconvert_exporter": "python",
   "pygments_lexer": "ipython3",
   "version": "3.6.12"
  }
 },
 "nbformat": 4,
 "nbformat_minor": 4
}
