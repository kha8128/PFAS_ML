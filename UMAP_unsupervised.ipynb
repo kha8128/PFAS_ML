{
 "cells": [
  {
   "cell_type": "code",
   "execution_count": 5,
   "metadata": {},
   "outputs": [],
   "source": [
    "# We will start by importing a the necessary Python libraries\n",
    "import pandas as pd\n",
    "from rdkit import Chem, DataStructs\n",
    "from rdkit.Chem import AllChem\n",
    "import numpy as np\n",
    "from tqdm import tqdm\n",
    "import seaborn as sns\n",
    "import matplotlib.pyplot as plt\n",
    "import umap\n",
    "from rdkit.Chem import PandasTools"
   ]
  },
  {
   "cell_type": "code",
   "execution_count": 2,
   "metadata": {},
   "outputs": [],
   "source": [
    "# We set a few parameters to improve the appearance of our plots\n",
    "sns.set(rc={'figure.figsize': (10, 10)})\n",
    "sns.set(font_scale=1.5)\n",
    "sns.set_style('whitegrid')"
   ]
  },
  {
   "cell_type": "code",
   "execution_count": 4,
   "metadata": {},
   "outputs": [],
   "source": [
    "# Read the input data. \n",
    "df = pd.read_csv(\"supporting_4.csv\")"
   ]
  },
  {
   "cell_type": "code",
   "execution_count": 6,
   "metadata": {},
   "outputs": [],
   "source": [
    "# Define a couple of functions to convert a list SMILES to a list of fingerprints.\n",
    "def fp_list_from_smiles_list(smiles_list,n_bits=2048):\n",
    "    fp_list = []\n",
    "    for smiles in tqdm(smiles_list):\n",
    "        mol = Chem.MolFromSmiles(smiles)\n",
    "        fp_list.append(fp_as_array(mol,n_bits))\n",
    "    return fp_list\n",
    "\n",
    "def fp_as_array(mol,n_bits=2048):\n",
    "    fp = AllChem.GetMorganFingerprintAsBitVect(mol, 2, nBits=n_bits)\n",
    "    arr = np.zeros((1,), np.int)\n",
    "    DataStructs.ConvertToNumpyArray(fp, arr)\n",
    "    return arr"
   ]
  },
  {
   "cell_type": "code",
   "execution_count": 7,
   "metadata": {},
   "outputs": [
    {
     "name": "stderr",
     "output_type": "stream",
     "text": [
      "100%|██████████| 1012/1012 [00:00<00:00, 2818.03it/s]\n"
     ]
    }
   ],
   "source": [
    "# Convert the SMILES from our dataframe to fingerprints.\n",
    "fp_list = fp_list_from_smiles_list(df.SMILES)\n",
    "fp_df = pd.DataFrame(fp_list)\n",
    "fp_df.to_csv('fp_df.csv',index=False)"
   ]
  },
  {
   "cell_type": "code",
   "execution_count": 11,
   "metadata": {},
   "outputs": [],
   "source": [
    "# Perform UMAP on the fingerprints. (Dimension reduction)\n",
    "\n",
    "reducer = umap.UMAP(n_neighbors=20, min_dist=0.0, n_components=2, random_state=42)\n",
    "crds_embedded = reducer.fit_transform(fp_list)"
   ]
  },
  {
   "cell_type": "code",
   "execution_count": 12,
   "metadata": {},
   "outputs": [],
   "source": [
    "tsne_df = pd.DataFrame(crds_embedded,columns=[\"X\",\"Y\"])\n",
    "tsne_df['SMILES'] = df['SMILES']\n",
    "tsne_df['PCBA1030'] = df['PCBA1030']\n",
    "tsne_df['PCBA1461'] = df['PCBA1461']\n",
    "tsne_df['PCBA1468'] = df['PCBA1468']\n",
    "tsne_df['PCBA1688'] = df['PCBA1688']\n",
    "tsne_df['PCBA2546'] = df['PCBA2546']\n",
    "tsne_df['PCBA2551'] = df['PCBA2551']\n",
    "tsne_df['PCBA504332'] = df['PCBA504332']\n",
    "tsne_df['PCBA504339'] = df['PCBA504339']\n",
    "tsne_df['PCBA504444'] = df['PCBA504444']\n",
    "tsne_df['PCBA504467'] = df['PCBA504467']\n",
    "tsne_df['PCBA540276'] = df['PCBA540276']\n",
    "tsne_df['PCBA588855'] = df['PCBA588855']\n",
    "tsne_df['PCBA624288'] = df['PCBA624288']\n",
    "tsne_df['PCBA624296'] = df['PCBA624296']\n",
    "tsne_df['PCBA624417'] = df['PCBA624417']\n",
    "tsne_df['PCBA651635'] = df['PCBA651635']\n",
    "tsne_df['PCBA686970'] = df['PCBA686970']\n",
    "tsne_df['PCBA686978'] = df['PCBA686978']\n",
    "tsne_df['PCBA686979'] = df['PCBA686979']\n",
    "tsne_df['PCBA720504'] = df['PCBA720504']\n",
    "tsne_df['PCBA720579'] = df['PCBA720579']\n",
    "tsne_df['PCBA720580'] = df['PCBA720580']\n",
    "tsne_df['PCBA883'] = df['PCBA883']\n",
    "tsne_df['PCBA884'] = df['PCBA884']\n",
    "tsne_df['PCBA891'] = df['PCBA891']\n",
    "tsne_df['PCBA938'] = df['PCBA938']"
   ]
  },
  {
   "cell_type": "code",
   "execution_count": 13,
   "metadata": {},
   "outputs": [],
   "source": [
    "tsne_df.to_csv('tsne_df.csv',index=False)"
   ]
  },
  {
   "cell_type": "code",
   "execution_count": null,
   "metadata": {},
   "outputs": [],
   "source": []
  }
 ],
 "metadata": {
  "kernelspec": {
   "display_name": "Python 3",
   "language": "python",
   "name": "python3"
  },
  "language_info": {
   "codemirror_mode": {
    "name": "ipython",
    "version": 3
   },
   "file_extension": ".py",
   "mimetype": "text/x-python",
   "name": "python",
   "nbconvert_exporter": "python",
   "pygments_lexer": "ipython3",
   "version": "3.6.12"
  }
 },
 "nbformat": 4,
 "nbformat_minor": 4
}
